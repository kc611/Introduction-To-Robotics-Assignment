{
 "cells": [
  {
   "cell_type": "code",
   "execution_count": 1,
   "metadata": {
    "id": "aWprP5u0NymD"
   },
   "outputs": [],
   "source": [
    "import pandas as pd\n",
    "import math\n",
    "import random\n",
    "import matplotlib.pyplot as plt\n",
    "from sklearn.model_selection import train_test_split\n",
    "from keras import models\n",
    "from keras import layers\n",
    "from keras import regularizers\n",
    "import numpy as np"
   ]
  },
  {
   "cell_type": "code",
   "execution_count": 2,
   "metadata": {
    "id": "c1WfsiocNz-S"
   },
   "outputs": [],
   "source": [
    "l1 = l2 = l3 = 10"
   ]
  },
  {
   "cell_type": "code",
   "execution_count": 3,
   "metadata": {
    "id": "8gYDuyTjN1do"
   },
   "outputs": [],
   "source": [
    "## Generating dataset for training\n",
    "\n",
    "def three_link_manipulator_dataset():\n",
    "    rows = []\n",
    "    for i in range(1, 100000):\n",
    "        theta1 = round(random.uniform(0, math.pi), 2)\n",
    "        theta2 = round(random.uniform(-math.pi, 0), 2)\n",
    "        theta3 = round(random.uniform(-math.pi/2, math.pi/2), 2)\n",
    "        \n",
    "        x = round(l1*math.cos(theta1)+l2*math.cos(theta1+theta2)+l3*math.cos(theta1+theta2+theta3), 2)\n",
    "        y = round(l1*math.sin(theta1)+l2*math.sin(theta1+theta2)+l3*math.sin(theta1+theta2+theta3), 2)\n",
    "        phi = round(math.degrees(theta1)+math.degrees(theta2)+math.degrees(theta3), 2)\n",
    "        \n",
    "        rows.append([theta1, theta2, theta3, x, y, phi])\n",
    "\n",
    "    df = pd.DataFrame(rows, columns=['theta1', 'theta2', 'theta3', 'x', 'y', 'phi'])\n",
    "    df.to_csv('three_link.csv', index=False)\n",
    "    \n",
    "three_link_manipulator_dataset()"
   ]
  },
  {
   "cell_type": "code",
   "execution_count": 4,
   "metadata": {
    "colab": {
     "base_uri": "https://localhost:8080/",
     "height": 195
    },
    "id": "3RBpYrFRN5Ir",
    "outputId": "fa228617-5727-4cb2-974d-05af3928a746"
   },
   "outputs": [
    {
     "data": {
      "text/html": [
       "<div>\n",
       "<style scoped>\n",
       "    .dataframe tbody tr th:only-of-type {\n",
       "        vertical-align: middle;\n",
       "    }\n",
       "\n",
       "    .dataframe tbody tr th {\n",
       "        vertical-align: top;\n",
       "    }\n",
       "\n",
       "    .dataframe thead th {\n",
       "        text-align: right;\n",
       "    }\n",
       "</style>\n",
       "<table border=\"1\" class=\"dataframe\">\n",
       "  <thead>\n",
       "    <tr style=\"text-align: right;\">\n",
       "      <th></th>\n",
       "      <th>theta1</th>\n",
       "      <th>theta2</th>\n",
       "      <th>theta3</th>\n",
       "      <th>x</th>\n",
       "      <th>y</th>\n",
       "      <th>phi</th>\n",
       "    </tr>\n",
       "  </thead>\n",
       "  <tbody>\n",
       "    <tr>\n",
       "      <th>0</th>\n",
       "      <td>1.21</td>\n",
       "      <td>-0.81</td>\n",
       "      <td>-1.13</td>\n",
       "      <td>20.19</td>\n",
       "      <td>6.58</td>\n",
       "      <td>-41.83</td>\n",
       "    </tr>\n",
       "    <tr>\n",
       "      <th>1</th>\n",
       "      <td>0.01</td>\n",
       "      <td>-1.89</td>\n",
       "      <td>1.51</td>\n",
       "      <td>16.28</td>\n",
       "      <td>-13.04</td>\n",
       "      <td>-21.20</td>\n",
       "    </tr>\n",
       "    <tr>\n",
       "      <th>2</th>\n",
       "      <td>2.58</td>\n",
       "      <td>-2.18</td>\n",
       "      <td>1.33</td>\n",
       "      <td>-0.84</td>\n",
       "      <td>19.09</td>\n",
       "      <td>99.12</td>\n",
       "    </tr>\n",
       "    <tr>\n",
       "      <th>3</th>\n",
       "      <td>2.94</td>\n",
       "      <td>-0.99</td>\n",
       "      <td>-0.36</td>\n",
       "      <td>-13.69</td>\n",
       "      <td>21.29</td>\n",
       "      <td>91.10</td>\n",
       "    </tr>\n",
       "    <tr>\n",
       "      <th>4</th>\n",
       "      <td>0.60</td>\n",
       "      <td>-1.83</td>\n",
       "      <td>-0.83</td>\n",
       "      <td>6.90</td>\n",
       "      <td>-12.61</td>\n",
       "      <td>-118.03</td>\n",
       "    </tr>\n",
       "  </tbody>\n",
       "</table>\n",
       "</div>"
      ],
      "text/plain": [
       "   theta1  theta2  theta3      x      y     phi\n",
       "0    1.21   -0.81   -1.13  20.19   6.58  -41.83\n",
       "1    0.01   -1.89    1.51  16.28 -13.04  -21.20\n",
       "2    2.58   -2.18    1.33  -0.84  19.09   99.12\n",
       "3    2.94   -0.99   -0.36 -13.69  21.29   91.10\n",
       "4    0.60   -1.83   -0.83   6.90 -12.61 -118.03"
      ]
     },
     "execution_count": 4,
     "metadata": {},
     "output_type": "execute_result"
    }
   ],
   "source": [
    "three_link_data = pd.read_csv('three_link.csv')\n",
    "three_link_data.head()"
   ]
  },
  {
   "cell_type": "code",
   "execution_count": 5,
   "metadata": {
    "colab": {
     "base_uri": "https://localhost:8080/",
     "height": 265
    },
    "id": "GtS_5sBaN9r_",
    "outputId": "a0160889-416e-4253-a3bb-a2fc03e704ba"
   },
   "outputs": [
    {
     "data": {
      "image/png": "[encoded data removed]",
      "text/plain": [
       "<Figure size 432x288 with 1 Axes>"
      ]
     },
     "metadata": {
      "needs_background": "light"
     },
     "output_type": "display_data"
    }
   ],
   "source": [
    "\n",
    "plt.scatter(three_link_data['x'], three_link_data['y'])\n",
    "plt.show()"
   ]
  },
  {
   "cell_type": "code",
   "execution_count": 6,
   "metadata": {
    "id": "B1gupLqyN_0Z"
   },
   "outputs": [],
   "source": [
    "# Splitting training and testing dataset\n",
    "\n",
    "X = three_link_data[['x', 'y', 'phi']]\n",
    "y = three_link_data[['theta1', 'theta2', 'theta3']]\n",
    "train_X, test_X, train_y, test_y = train_test_split(X, y, test_size=0.1)"
   ]
  },
  {
   "cell_type": "code",
   "execution_count": 7,
   "metadata": {
    "colab": {
     "base_uri": "https://localhost:8080/"
    },
    "id": "JYAMcXxXOBrg",
    "outputId": "2d11a858-6902-43b2-f92c-68d3d7a0564c"
   },
   "outputs": [
    {
     "name": "stdout",
     "output_type": "stream",
     "text": [
      "Model: \"sequential\"\n",
      "_________________________________________________________________\n",
      "Layer (type)                 Output Shape              Param #   \n",
      "=================================================================\n",
      "dense (Dense)                (None, 3)                 12        \n",
      "_________________________________________________________________\n",
      "dense_1 (Dense)              (None, 100)               400       \n",
      "_________________________________________________________________\n",
      "dense_2 (Dense)              (None, 100)               10100     \n",
      "_________________________________________________________________\n",
      "dense_3 (Dense)              (None, 3)                 303       \n",
      "=================================================================\n",
      "Total params: 10,815\n",
      "Trainable params: 10,815\n",
      "Non-trainable params: 0\n",
      "_________________________________________________________________\n"
     ]
    }
   ],
   "source": [
    "# Defining model\n",
    "\n",
    "model = models.Sequential()\n",
    "model.add(layers.Dense(units=3, input_dim=3, kernel_initializer='uniform'))\n",
    "model.add(layers.Dense(units=100, kernel_initializer='uniform', activation='relu'))\n",
    "model.add(layers.Dense(units=100, kernel_initializer='uniform', activation='relu'))\n",
    "model.add(layers.Dense(units=3, kernel_initializer = 'uniform', activation='linear'))\n",
    "\n",
    "model.summary()"
   ]
  },
  {
   "cell_type": "code",
   "execution_count": 8,
   "metadata": {
    "id": "h-VQYVlZOEa0"
   },
   "outputs": [],
   "source": [
    "model.compile(optimizer='adam', loss='mean_squared_error', metrics=['accuracy'])"
   ]
  },
  {
   "cell_type": "code",
   "execution_count": 9,
   "metadata": {
    "colab": {
     "base_uri": "https://localhost:8080/"
    },
    "id": "sOjBwo9oOGf5",
    "outputId": "a600f4c4-93fd-4845-85ca-c742e46083db"
   },
   "outputs": [
    {
     "name": "stdout",
     "output_type": "stream",
     "text": [
      "Epoch 1/30\n",
      "2532/2532 [==============================] - 3s 913us/step - loss: 0.4003 - accuracy: 0.9095 - val_loss: 0.0353 - val_accuracy: 0.9584\n",
      "Epoch 2/30\n",
      "2532/2532 [==============================] - 2s 749us/step - loss: 0.0333 - accuracy: 0.9672 - val_loss: 0.0224 - val_accuracy: 0.9677\n",
      "Epoch 3/30\n",
      "2532/2532 [==============================] - 2s 817us/step - loss: 0.0251 - accuracy: 0.9724 - val_loss: 0.0311 - val_accuracy: 0.9587\n",
      "Epoch 4/30\n",
      "2532/2532 [==============================] - 2s 779us/step - loss: 0.0222 - accuracy: 0.9753 - val_loss: 0.0262 - val_accuracy: 0.9633\n",
      "Epoch 5/30\n",
      "2532/2532 [==============================] - 2s 765us/step - loss: 0.0191 - accuracy: 0.9779 - val_loss: 0.0177 - val_accuracy: 0.9717\n",
      "Epoch 6/30\n",
      "2532/2532 [==============================] - 2s 785us/step - loss: 0.0171 - accuracy: 0.9795 - val_loss: 0.0212 - val_accuracy: 0.9783\n",
      "Epoch 7/30\n",
      "2532/2532 [==============================] - 2s 775us/step - loss: 0.0172 - accuracy: 0.9780 - val_loss: 0.0166 - val_accuracy: 0.9747\n",
      "Epoch 8/30\n",
      "2532/2532 [==============================] - 2s 782us/step - loss: 0.0158 - accuracy: 0.9803 - val_loss: 0.0211 - val_accuracy: 0.9736\n",
      "Epoch 9/30\n",
      "2532/2532 [==============================] - 2s 778us/step - loss: 0.0151 - accuracy: 0.9805 - val_loss: 0.0163 - val_accuracy: 0.9829\n",
      "Epoch 10/30\n",
      "2532/2532 [==============================] - 2s 784us/step - loss: 0.0146 - accuracy: 0.9818 - val_loss: 0.0113 - val_accuracy: 0.9833\n",
      "Epoch 11/30\n",
      "2532/2532 [==============================] - 2s 751us/step - loss: 0.0136 - accuracy: 0.9827 - val_loss: 0.0160 - val_accuracy: 0.9826\n",
      "Epoch 12/30\n",
      "2532/2532 [==============================] - 2s 820us/step - loss: 0.0142 - accuracy: 0.9825 - val_loss: 0.0115 - val_accuracy: 0.9837\n",
      "Epoch 13/30\n",
      "2532/2532 [==============================] - 2s 814us/step - loss: 0.0131 - accuracy: 0.9836 - val_loss: 0.0124 - val_accuracy: 0.9820\n",
      "Epoch 14/30\n",
      "2532/2532 [==============================] - 2s 758us/step - loss: 0.0132 - accuracy: 0.9834 - val_loss: 0.0148 - val_accuracy: 0.9830\n",
      "Epoch 15/30\n",
      "2532/2532 [==============================] - 2s 748us/step - loss: 0.0126 - accuracy: 0.9840 - val_loss: 0.0107 - val_accuracy: 0.9863\n",
      "Epoch 16/30\n",
      "2532/2532 [==============================] - 2s 785us/step - loss: 0.0125 - accuracy: 0.9834 - val_loss: 0.0121 - val_accuracy: 0.9813\n",
      "Epoch 17/30\n",
      "2532/2532 [==============================] - 2s 860us/step - loss: 0.0118 - accuracy: 0.9842 - val_loss: 0.0110 - val_accuracy: 0.9843\n",
      "Epoch 18/30\n",
      "2532/2532 [==============================] - 2s 778us/step - loss: 0.0126 - accuracy: 0.9830 - val_loss: 0.0092 - val_accuracy: 0.9869\n",
      "Epoch 19/30\n",
      "2532/2532 [==============================] - 2s 830us/step - loss: 0.0116 - accuracy: 0.9843 - val_loss: 0.0153 - val_accuracy: 0.9846\n",
      "Epoch 20/30\n",
      "2532/2532 [==============================] - 2s 821us/step - loss: 0.0119 - accuracy: 0.9857 - val_loss: 0.0138 - val_accuracy: 0.9782\n",
      "Epoch 21/30\n",
      "2532/2532 [==============================] - 2s 791us/step - loss: 0.0121 - accuracy: 0.9846 - val_loss: 0.0143 - val_accuracy: 0.9854\n",
      "Epoch 22/30\n",
      "2532/2532 [==============================] - 2s 693us/step - loss: 0.0118 - accuracy: 0.9852 - val_loss: 0.0101 - val_accuracy: 0.9851\n",
      "Epoch 23/30\n",
      "2532/2532 [==============================] - 2s 783us/step - loss: 0.0114 - accuracy: 0.9850 - val_loss: 0.0148 - val_accuracy: 0.9856\n",
      "Epoch 24/30\n",
      "2532/2532 [==============================] - 3s 1ms/step - loss: 0.0121 - accuracy: 0.9850 - val_loss: 0.0106 - val_accuracy: 0.9790\n",
      "Epoch 25/30\n",
      "2532/2532 [==============================] - 2s 817us/step - loss: 0.0114 - accuracy: 0.9850 - val_loss: 0.0101 - val_accuracy: 0.9829\n",
      "Epoch 26/30\n",
      "2532/2532 [==============================] - 2s 792us/step - loss: 0.0113 - accuracy: 0.9864 - val_loss: 0.0090 - val_accuracy: 0.9899\n",
      "Epoch 27/30\n",
      "2532/2532 [==============================] - 2s 751us/step - loss: 0.0107 - accuracy: 0.9873 - val_loss: 0.0086 - val_accuracy: 0.9900\n",
      "Epoch 28/30\n",
      "2532/2532 [==============================] - 2s 730us/step - loss: 0.0100 - accuracy: 0.9871 - val_loss: 0.0186 - val_accuracy: 0.9768\n",
      "Epoch 29/30\n",
      "2532/2532 [==============================] - 2s 872us/step - loss: 0.0106 - accuracy: 0.9866 - val_loss: 0.0082 - val_accuracy: 0.9860\n",
      "Epoch 30/30\n",
      "2532/2532 [==============================] - 2s 908us/step - loss: 0.0103 - accuracy: 0.9861 - val_loss: 0.0124 - val_accuracy: 0.9817\n"
     ]
    }
   ],
   "source": [
    "# Training model\n",
    "\n",
    "history = model.fit(train_X, train_y, epochs=30, validation_split=0.1, shuffle=True)"
   ]
  },
  {
   "cell_type": "code",
   "execution_count": 10,
   "metadata": {
    "colab": {
     "base_uri": "https://localhost:8080/",
     "height": 295
    },
    "id": "0LEm7MV7OKFP",
    "outputId": "9ecd2526-c581-4a9d-c8bf-3815b878b9ee"
   },
   "outputs": [
    {
     "data": {
      "image/png": "[encoded data removed]",
      "text/plain": [
       "<Figure size 432x288 with 1 Axes>"
      ]
     },
     "metadata": {
      "needs_background": "light"
     },
     "output_type": "display_data"
    }
   ],
   "source": [
    "# Plotting model accuracy\n",
    "\n",
    "plt.plot(history.history['accuracy'])\n",
    "plt.plot(history.history['val_accuracy'])\n",
    "plt.title('model accuracy')\n",
    "plt.ylabel('accuracy')\n",
    "plt.xlabel('epoch')\n",
    "plt.legend(['train', 'val'], loc='upper left')\n",
    "plt.show()"
   ]
  },
  {
   "cell_type": "code",
   "execution_count": 11,
   "metadata": {
    "colab": {
     "base_uri": "https://localhost:8080/",
     "height": 295
    },
    "id": "RZud03ziOpHo",
    "outputId": "0551e0a1-bcd2-4417-b0e3-22a31eeb537d"
   },
   "outputs": [
    {
     "data": {
      "image/png": "[encoded data removed]",
      "text/plain": [
       "<Figure size 432x288 with 1 Axes>"
      ]
     },
     "metadata": {
      "needs_background": "light"
     },
     "output_type": "display_data"
    }
   ],
   "source": [
    "# Plotting model loss\n",
    "\n",
    "plt.plot(history.history['loss'])\n",
    "plt.plot(history.history['val_loss'])\n",
    "plt.title('model loss')\n",
    "plt.ylabel('loss')\n",
    "plt.xlabel('epoch')\n",
    "plt.legend(['train', 'val'], loc='upper left')\n",
    "plt.show()"
   ]
  },
  {
   "cell_type": "code",
   "execution_count": 12,
   "metadata": {
    "colab": {
     "base_uri": "https://localhost:8080/"
    },
    "id": "xCpOOHHsOrVg",
    "outputId": "8e2ac7ee-bf75-4a8b-8243-7cca9d2d0acd"
   },
   "outputs": [
    {
     "name": "stdout",
     "output_type": "stream",
     "text": [
      "313/313 [==============================] - 0s 557us/step - loss: 0.0133 - accuracy: 0.9818\n",
      "\n",
      "Testing Loss =  0.013339062221348286\n",
      "Testing Accuracy =  0.9818000197410583\n"
     ]
    }
   ],
   "source": [
    "\n",
    "# Evaluating the model on test set\n",
    "\n",
    "test_loss, test_acc = model.evaluate(test_X, test_y)\n",
    "\n",
    "print('\\nTesting Loss = ', test_loss) \n",
    "print('Testing Accuracy = ', test_acc)"
   ]
  },
  {
   "cell_type": "code",
   "execution_count": 13,
   "metadata": {
    "id": "vgqCfwYrOxxJ"
   },
   "outputs": [],
   "source": [
    "def iiitm_dataset():\n",
    "    rows = []\n",
    "\n",
    "    # for I\n",
    "    arr = np.linspace(5, 7, 100)\n",
    "    for y in arr:\n",
    "        x = 6\n",
    "        theta = math.degrees(math.atan(y/x))\n",
    "        rows.append([x, y, theta])\n",
    "\n",
    "    # for I\n",
    "    arr = np.linspace(5, 7, 100)\n",
    "    for y in arr:\n",
    "        x = 7\n",
    "        theta = math.degrees(math.atan(y/x))\n",
    "        rows.append([x, y, theta])\n",
    "\n",
    "    # for I\n",
    "    arr = np.linspace(5, 7, 100)\n",
    "    for y in arr:\n",
    "        x = 8\n",
    "        theta = math.degrees(math.atan(y/x))\n",
    "        rows.append([x, y, theta])\n",
    "\n",
    "    # for T\n",
    "    arr = np.linspace(8.5, 10.5, 100)\n",
    "    for x in arr:\n",
    "        y = 7\n",
    "        theta = math.degrees(math.atan(y/x))\n",
    "        rows.append([x, y, theta])\n",
    "\n",
    "    arr = np.linspace(5, 7, 100)\n",
    "    for y in arr:\n",
    "        x = 9.5\n",
    "        theta = math.degrees(math.atan(y/x))\n",
    "        rows.append([x, y, theta])\n",
    "\n",
    "    # for M\n",
    "    arr = np.linspace(5, 7, 100)\n",
    "    for y in arr:\n",
    "        x = 11\n",
    "        theta = math.degrees(math.atan(y/x))\n",
    "        rows.append([x, y, theta])\n",
    "\n",
    "    arr = np.linspace(5, 7, 100)\n",
    "    for y in arr:\n",
    "        x = ((-y)+29)/2\n",
    "        theta = math.degrees(math.atan(y/x))\n",
    "        rows.append([x, y, theta])\n",
    "\n",
    "    arr = np.linspace(5, 7, 100)\n",
    "    for y in arr:\n",
    "        x = ((y)+19)/2\n",
    "        theta = math.degrees(math.atan(y/x))\n",
    "        rows.append([x, y, theta])\n",
    "\n",
    "    arr = np.linspace(5, 7, 100)\n",
    "    for y in arr:\n",
    "        x = 13\n",
    "        theta = math.degrees(math.atan(y/x))\n",
    "        rows.append([x, y, theta])\n",
    "\n",
    "    df = pd.DataFrame(rows, columns=['x', 'y', 'theta'])\n",
    "    df.to_csv('iiitm.csv', index=False)\n",
    "    \n",
    "iiitm_dataset()"
   ]
  },
  {
   "cell_type": "code",
   "execution_count": 14,
   "metadata": {
    "id": "VnrWe37cO34L"
   },
   "outputs": [],
   "source": [
    "def three_link_forward_kinematics(theta1, theta2, theta3):\n",
    "    x = (np.cos(theta1)*l1)+(np.cos(theta1+theta2)*l2)+(np.cos(theta1+theta2+theta3)*l3)\n",
    "    y = (np.sin(theta1)*l1)+(np.sin(theta1+theta2)*l2)+(np.sin(theta1+theta2+theta3)*l3)\n",
    "\n",
    "    return x, y"
   ]
  },
  {
   "cell_type": "code",
   "execution_count": 15,
   "metadata": {
    "id": "4ZBboPV-O6wW"
   },
   "outputs": [],
   "source": [
    "iiitm_data = pd.read_csv('iiitm.csv')\n",
    "iiitm_predictions = model.predict(iiitm_data.values)\n",
    "x_predictions, y_predictions = three_link_forward_kinematics(iiitm_predictions[:,0], iiitm_predictions[:,1], iiitm_predictions[:,2])"
   ]
  },
  {
   "cell_type": "code",
   "execution_count": 16,
   "metadata": {
    "colab": {
     "base_uri": "https://localhost:8080/",
     "height": 761
    },
    "id": "cEbxFD3ZO8n-",
    "outputId": "7f3d4d7d-1c3c-49d4-90dd-cf6733daa656"
   },
   "outputs": [
    {
     "data": {
      "image/png": "[encoded data removed]",
      "text/plain": [
       "<Figure size 432x288 with 1 Axes>"
      ]
     },
     "metadata": {
      "needs_background": "light"
     },
     "output_type": "display_data"
    },
    {
     "data": {
      "image/png": "[encoded data removed]",
      "text/plain": [
       "<Figure size 432x288 with 1 Axes>"
      ]
     },
     "metadata": {
      "needs_background": "light"
     },
     "output_type": "display_data"
    },
    {
     "data": {
      "image/png": "[encoded data removed]",
      "text/plain": [
       "<Figure size 432x288 with 1 Axes>"
      ]
     },
     "metadata": {
      "needs_background": "light"
     },
     "output_type": "display_data"
    }
   ],
   "source": [
    "# Original\n",
    "plt.plot(iiitm_data['x'], iiitm_data['y'], 'go')\n",
    "plt.show()\n",
    "\n",
    "# Predicted\n",
    "plt.plot(x_predictions, y_predictions, 'bo')\n",
    "plt.show()\n",
    "\n",
    "# Original and Predicted\n",
    "plt.plot(iiitm_data['x'], iiitm_data['y'], 'go')\n",
    "plt.plot(x_predictions, y_predictions, 'bo')\n",
    "plt.show()"
   ]
  },
  {
   "cell_type": "code",
   "execution_count": 17,
   "metadata": {
    "id": "u805xfz_PAzt"
   },
   "outputs": [],
   "source": [
    "def kaustubh_dataset():\n",
    "    rows = []\n",
    "\n",
    "    # for K\n",
    "    arr = np.linspace(5, 7, 100)\n",
    "    for y in arr:\n",
    "        x = 5\n",
    "        theta = math.degrees(math.atan(y/x))\n",
    "        rows.append([x, y, theta])\n",
    "\n",
    "    arr = np.linspace(5, 6, 100)\n",
    "    for y in arr:\n",
    "        x = -y+11\n",
    "        theta = math.degrees(math.atan(y/x))\n",
    "        rows.append([x, y, theta])\n",
    "\n",
    "    arr = np.linspace(6, 7, 100)\n",
    "    for y in arr:\n",
    "        x = y -1\n",
    "        theta = math.degrees(math.atan(y/x))\n",
    "        rows.append([x, y, theta])\n",
    "    \n",
    "    # for A\n",
    "    arr = np.linspace(5, 7, 100)\n",
    "    for y in arr:\n",
    "        x = (y+9)/2\n",
    "        theta = math.degrees(math.atan(y/x))\n",
    "        rows.append([x, y, theta])\n",
    "\n",
    "    arr = np.linspace(5, 7, 100)\n",
    "    for y in arr:\n",
    "        x = (-y+23)/2\n",
    "        theta = math.degrees(math.atan(y/x))\n",
    "        rows.append([x, y, theta])\n",
    "\n",
    "    arr = np.linspace(7.5, 8.5, 50)\n",
    "    for x in arr:\n",
    "        y = 6\n",
    "        theta = math.degrees(math.atan(y/x))\n",
    "        rows.append([x, y, theta])\n",
    "    \n",
    "    # for U\n",
    "    arr = np.linspace(5, 7, 100)\n",
    "    for y in arr:\n",
    "        x = 10\n",
    "        theta = math.degrees(math.atan(y/x))\n",
    "        rows.append([x, y, theta])\n",
    "\n",
    "    arr = np.linspace(5, 7, 100)\n",
    "    for y in arr:\n",
    "        x = 12\n",
    "        theta = math.degrees(math.atan(y/x))\n",
    "        rows.append([x, y, theta])\n",
    "\n",
    "    arr = np.linspace(10, 12, 50)\n",
    "    for x in arr:\n",
    "        y = 5\n",
    "        theta = math.degrees(math.atan(y/x))\n",
    "        rows.append([x, y, theta])\n",
    "    \n",
    "    # for S\n",
    "    arr = np.linspace(6, 7, 100)\n",
    "    for y in arr:\n",
    "        x = 13\n",
    "        theta = math.degrees(math.atan(y/x))\n",
    "        rows.append([x, y, theta])\n",
    "    \n",
    "    arr = np.linspace(13, 15, 100)\n",
    "    for x in arr:\n",
    "        y = 5\n",
    "        theta = math.degrees(math.atan(y/x))\n",
    "        rows.append([x, y, theta])\n",
    "    \n",
    "    arr = np.linspace(13, 15, 100)\n",
    "    for x in arr:\n",
    "        y = 6\n",
    "        theta = math.degrees(math.atan(y/x))\n",
    "        rows.append([x, y, theta])\n",
    "    \n",
    "    arr = np.linspace(13, 15, 100)\n",
    "    for x in arr:\n",
    "        y = 7\n",
    "        theta = math.degrees(math.atan(y/x))\n",
    "        rows.append([x, y, theta])\n",
    "    \n",
    "    \n",
    "    arr = np.linspace(5, 6, 100)\n",
    "    for y in arr:\n",
    "        x = 15\n",
    "        theta = math.degrees(math.atan(y/x))\n",
    "        rows.append([x, y, theta])\n",
    "    \n",
    "    # for T\n",
    "    arr = np.linspace(16, 18, 100)\n",
    "    for x in arr:\n",
    "        y = 7\n",
    "        theta = math.degrees(math.atan(y/x))\n",
    "        rows.append([x, y, theta])\n",
    "\n",
    "    arr = np.linspace(5, 7, 100)\n",
    "    for y in arr:\n",
    "        x = 17\n",
    "        theta = math.degrees(math.atan(y/x))\n",
    "        rows.append([x, y, theta])\n",
    "    \n",
    "    # for U\n",
    "    arr = np.linspace(5, 7, 100)\n",
    "    for y in arr:\n",
    "        x = 19\n",
    "        theta = math.degrees(math.atan(y/x))\n",
    "        rows.append([x, y, theta])\n",
    "\n",
    "    arr = np.linspace(5, 7, 100)\n",
    "    for y in arr:\n",
    "        x = 21\n",
    "        theta = math.degrees(math.atan(y/x))\n",
    "        rows.append([x, y, theta])\n",
    "\n",
    "    arr = np.linspace(19, 21, 50)\n",
    "    for x in arr:\n",
    "        y = 5\n",
    "        theta = math.degrees(math.atan(y/x))\n",
    "        rows.append([x, y, theta])\n",
    "    \n",
    "    # for B\n",
    "    arr = np.linspace(5, 7, 100)\n",
    "    for y in arr:\n",
    "        x = 22\n",
    "        theta = math.degrees(math.atan(y/x))\n",
    "        rows.append([x, y, theta])\n",
    "\n",
    "    arr = np.linspace(5, 7, 100)\n",
    "    for y in arr:\n",
    "        x = 24\n",
    "        theta = math.degrees(math.atan(y/x))\n",
    "        rows.append([x, y, theta])\n",
    "\n",
    "    arr = np.linspace(22,24,100)\n",
    "    for x in arr:\n",
    "        y = 5\n",
    "        theta = math.degrees(math.atan(y/x))\n",
    "        rows.append([x, y, theta])\n",
    "    \n",
    "    arr = np.linspace(22,24,100)\n",
    "    for x in arr:\n",
    "        y = 6\n",
    "        theta = math.degrees(math.atan(y/x))\n",
    "        rows.append([x, y, theta])\n",
    "    \n",
    "    arr = np.linspace(22,24,100)\n",
    "    for x in arr:\n",
    "        y = 7\n",
    "        theta = math.degrees(math.atan(y/x))\n",
    "        rows.append([x, y, theta])\n",
    "    \n",
    "    # for H\n",
    "    arr = np.linspace(5, 7, 100)\n",
    "    for y in arr:\n",
    "        x = 25\n",
    "        theta = math.degrees(math.atan(y/x))\n",
    "        rows.append([x, y, theta])\n",
    "    \n",
    "    arr = np.linspace(25,27,100)\n",
    "    for x in arr:\n",
    "        y = 6\n",
    "        theta = math.degrees(math.atan(y/x))\n",
    "        rows.append([x, y, theta])\n",
    "    \n",
    "    arr = np.linspace(5, 7, 100)\n",
    "    for y in arr:\n",
    "        x = 27\n",
    "        theta = math.degrees(math.atan(y/x))\n",
    "        rows.append([x, y, theta])\n",
    "        \n",
    "    df = pd.DataFrame(rows, columns=['x', 'y', 'theta'])\n",
    "    df.to_csv('kaustubh.csv', index=False)\n",
    "kaustubh_dataset()"
   ]
  },
  {
   "cell_type": "code",
   "execution_count": 18,
   "metadata": {},
   "outputs": [],
   "source": [
    "def three_link_forward_kinematics(theta1, theta2, theta3):\n",
    "    x = (np.cos(theta1)*l1)+(np.cos(theta1+theta2)*l2)+(np.cos(theta1+theta2+theta3)*l3)\n",
    "    y = (np.sin(theta1)*l1)+(np.sin(theta1+theta2)*l2)+(np.sin(theta1+theta2+theta3)*l3)\n",
    "\n",
    "    return x, y"
   ]
  },
  {
   "cell_type": "code",
   "execution_count": 19,
   "metadata": {},
   "outputs": [],
   "source": [
    "kaustubh_data = pd.read_csv('kaustubh.csv')\n",
    "kaustubh_predictions = model.predict(kaustubh_data.values)\n",
    "x_predictions, y_predictions = three_link_forward_kinematics(kaustubh_predictions[:,0], kaustubh_predictions[:,1], kaustubh_predictions[:,2])"
   ]
  },
  {
   "cell_type": "code",
   "execution_count": 20,
   "metadata": {},
   "outputs": [
    {
     "data": {
      "image/png": "[encoded data removed]",
      "text/plain": [
       "<Figure size 432x288 with 1 Axes>"
      ]
     },
     "metadata": {
      "needs_background": "light"
     },
     "output_type": "display_data"
    },
    {
     "data": {
      "image/png": "[encoded data removed]",
      "text/plain": [
       "<Figure size 432x288 with 1 Axes>"
      ]
     },
     "metadata": {
      "needs_background": "light"
     },
     "output_type": "display_data"
    },
    {
     "data": {
      "image/png": "[encoded data removed]",
      "text/plain": [
       "<Figure size 432x288 with 1 Axes>"
      ]
     },
     "metadata": {
      "needs_background": "light"
     },
     "output_type": "display_data"
    }
   ],
   "source": [
    "# Original\n",
    "plt.plot(kaustubh_data['x'], kaustubh_data['y'], 'go')\n",
    "plt.show()\n",
    "\n",
    "# Predicted\n",
    "plt.plot(x_predictions, y_predictions, 'bo')\n",
    "plt.show()\n",
    "\n",
    "# Original and Predicted\n",
    "plt.plot(kaustubh_data['x'], kaustubh_data['y'], 'go')\n",
    "plt.plot(x_predictions, y_predictions, 'bo')\n",
    "plt.show()"
   ]
  },
  {
   "cell_type": "code",
   "execution_count": null,
   "metadata": {},
   "outputs": [],
   "source": []
  }
 ],
 "metadata": {
  "colab": {
   "name": "Untitled1.ipynb",
   "provenance": []
  },
  "kernelspec": {
   "display_name": "Python 3",
   "language": "python",
   "name": "python3"
  },
  "language_info": {
   "codemirror_mode": {
    "name": "ipython",
    "version": 3
   },
   "file_extension": ".py",
   "mimetype": "text/x-python",
   "name": "python",
   "nbconvert_exporter": "python",
   "pygments_lexer": "ipython3",
   "version": "3.8.5"
  }
 },
 "nbformat": 4,
 "nbformat_minor": 1
}
